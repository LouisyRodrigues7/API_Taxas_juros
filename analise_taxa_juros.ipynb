{
 "cells": [
  {
   "cell_type": "code",
   "execution_count": 1,
   "id": "7b98a910",
   "metadata": {},
   "outputs": [
    {
     "name": "stdout",
     "output_type": "stream",
     "text": [
      "📌 Primeiras linhas:\n",
      "  InicioPeriodo  FimPeriodo codigoSegmento         Segmento codigoModalidade  \\\n",
      "0    2025-05-19  2025-05-23              2  Pessoa Jurídica           502205   \n",
      "1    2025-05-19  2025-05-23              2  Pessoa Jurídica           502205   \n",
      "2    2025-05-19  2025-05-23              2  Pessoa Jurídica           502205   \n",
      "3    2025-05-19  2025-05-23              2  Pessoa Jurídica           502205   \n",
      "4    2025-05-19  2025-05-23              2  Pessoa Jurídica           502205   \n",
      "\n",
      "                                          Modalidade  Posicao  \\\n",
      "0  Adiantamento sobre contratos de câmbio (ACC) -...        1   \n",
      "1  Adiantamento sobre contratos de câmbio (ACC) -...        2   \n",
      "2  Adiantamento sobre contratos de câmbio (ACC) -...        3   \n",
      "3  Adiantamento sobre contratos de câmbio (ACC) -...        4   \n",
      "4  Adiantamento sobre contratos de câmbio (ACC) -...        5   \n",
      "\n",
      "         InstituicaoFinanceira  TaxaJurosAoMes  TaxaJurosAoAno     cnpj8  \n",
      "0              BCO MIZUHO S.A.            0.36            4.38  61088183  \n",
      "1  BCO SOCIETE GENERALE BRASIL            0.38            4.70  61533584  \n",
      "2          BCO KDB BRASIL S.A.            0.39            4.76  07656500  \n",
      "3           BCO DO BRASIL S.A.            0.42            5.14  00000000  \n",
      "4          BBVA BRASIL BI S.A.            0.42            5.19  45283173  \n",
      "\n",
      "📌 Tipos de dados:\n",
      "InicioPeriodo             object\n",
      "FimPeriodo                object\n",
      "codigoSegmento            object\n",
      "Segmento                  object\n",
      "codigoModalidade          object\n",
      "Modalidade                object\n",
      "Posicao                    int64\n",
      "InstituicaoFinanceira     object\n",
      "TaxaJurosAoMes           float64\n",
      "TaxaJurosAoAno           float64\n",
      "cnpj8                     object\n",
      "dtype: object\n",
      "\n",
      "📌 Estatísticas descritivas:\n",
      "       InicioPeriodo  FimPeriodo codigoSegmento       Segmento  \\\n",
      "count          10000       10000          10000          10000   \n",
      "unique            14          14              2              2   \n",
      "top       2025-05-15  2025-05-21              1  Pessoa Física   \n",
      "freq             775         775           5653           5653   \n",
      "mean             NaN         NaN            NaN            NaN   \n",
      "std              NaN         NaN            NaN            NaN   \n",
      "min              NaN         NaN            NaN            NaN   \n",
      "25%              NaN         NaN            NaN            NaN   \n",
      "50%              NaN         NaN            NaN            NaN   \n",
      "75%              NaN         NaN            NaN            NaN   \n",
      "max              NaN         NaN            NaN            NaN   \n",
      "\n",
      "       codigoModalidade                                   Modalidade  \\\n",
      "count             10000                                        10000   \n",
      "unique               20                                           20   \n",
      "top              221101  Crédito pessoal não-consignado - Pré-fixado   \n",
      "freq               1068                                         1068   \n",
      "mean                NaN                                          NaN   \n",
      "std                 NaN                                          NaN   \n",
      "min                 NaN                                          NaN   \n",
      "25%                 NaN                                          NaN   \n",
      "50%                 NaN                                          NaN   \n",
      "75%                 NaN                                          NaN   \n",
      "max                 NaN                                          NaN   \n",
      "\n",
      "             Posicao InstituicaoFinanceira  TaxaJurosAoMes  TaxaJurosAoAno  \\\n",
      "count   10000.000000                 10000    10000.000000    10000.000000   \n",
      "unique           NaN                   172             NaN             NaN   \n",
      "top              NaN    BCO DO BRASIL S.A.             NaN             NaN   \n",
      "freq             NaN                   290             NaN             NaN   \n",
      "mean       22.708100                   NaN        4.743769      105.736767   \n",
      "std        16.624715                   NaN        4.712019      163.344035   \n",
      "min         1.000000                   NaN        0.000000        0.000000   \n",
      "25%         9.000000                   NaN        1.770000       23.410000   \n",
      "50%        20.000000                   NaN        2.520000       34.820000   \n",
      "75%        33.000000                   NaN        6.142500      104.500000   \n",
      "max        85.000000                   NaN       22.070000      994.610000   \n",
      "\n",
      "           cnpj8  \n",
      "count      10000  \n",
      "unique       172  \n",
      "top     00000000  \n",
      "freq         290  \n",
      "mean         NaN  \n",
      "std          NaN  \n",
      "min          NaN  \n",
      "25%          NaN  \n",
      "50%          NaN  \n",
      "75%          NaN  \n",
      "max          NaN  \n",
      "\n",
      "📌 Valores nulos por coluna:\n",
      "InicioPeriodo            0\n",
      "FimPeriodo               0\n",
      "codigoSegmento           0\n",
      "Segmento                 0\n",
      "codigoModalidade         0\n",
      "Modalidade               0\n",
      "Posicao                  0\n",
      "InstituicaoFinanceira    0\n",
      "TaxaJurosAoMes           0\n",
      "TaxaJurosAoAno           0\n",
      "cnpj8                    0\n",
      "dtype: int64\n"
     ]
    }
   ],
   "source": [
    "import pandas as pd\n",
    "import sqlite3\n",
    "\n",
    "# Conectar\n",
    "con = sqlite3.connect('src/datasets/taxa_juros.db')\n",
    "\n",
    "# Consultar os dados\n",
    "query = \"SELECT * FROM taxa_juros\"\n",
    "df = pd.read_sql(query, con)\n",
    "\n",
    "# Fechar conexão\n",
    "con.close()\n",
    "\n",
    "# Análise básica\n",
    "print(\"📌 Primeiras linhas:\")\n",
    "print(df.head())\n",
    "\n",
    "print(\"\\n📌 Tipos de dados:\")\n",
    "print(df.dtypes)\n",
    "\n",
    "print(\"\\n📌 Estatísticas descritivas:\")\n",
    "print(df.describe(include='all'))\n",
    "\n",
    "print(\"\\n📌 Valores nulos por coluna:\")\n",
    "print(df.isnull().sum())\n"
   ]
  },
  {
   "cell_type": "code",
   "execution_count": 2,
   "id": "bcdab097",
   "metadata": {},
   "outputs": [
    {
     "data": {
      "text/html": [
       "<div>\n",
       "<style scoped>\n",
       "    .dataframe tbody tr th:only-of-type {\n",
       "        vertical-align: middle;\n",
       "    }\n",
       "\n",
       "    .dataframe tbody tr th {\n",
       "        vertical-align: top;\n",
       "    }\n",
       "\n",
       "    .dataframe thead th {\n",
       "        text-align: right;\n",
       "    }\n",
       "</style>\n",
       "<table border=\"1\" class=\"dataframe\">\n",
       "  <thead>\n",
       "    <tr style=\"text-align: right;\">\n",
       "      <th></th>\n",
       "      <th>InicioPeriodo</th>\n",
       "      <th>FimPeriodo</th>\n",
       "      <th>codigoSegmento</th>\n",
       "      <th>Segmento</th>\n",
       "      <th>codigoModalidade</th>\n",
       "      <th>Modalidade</th>\n",
       "      <th>Posicao</th>\n",
       "      <th>InstituicaoFinanceira</th>\n",
       "      <th>TaxaJurosAoMes</th>\n",
       "      <th>TaxaJurosAoAno</th>\n",
       "      <th>cnpj8</th>\n",
       "    </tr>\n",
       "  </thead>\n",
       "  <tbody>\n",
       "    <tr>\n",
       "      <th>0</th>\n",
       "      <td>2025-05-19</td>\n",
       "      <td>2025-05-23</td>\n",
       "      <td>2</td>\n",
       "      <td>Pessoa Jurídica</td>\n",
       "      <td>502205</td>\n",
       "      <td>Adiantamento sobre contratos de câmbio (ACC) -...</td>\n",
       "      <td>1</td>\n",
       "      <td>BCO MIZUHO S.A.</td>\n",
       "      <td>0.36</td>\n",
       "      <td>4.38</td>\n",
       "      <td>61088183</td>\n",
       "    </tr>\n",
       "    <tr>\n",
       "      <th>1</th>\n",
       "      <td>2025-05-19</td>\n",
       "      <td>2025-05-23</td>\n",
       "      <td>2</td>\n",
       "      <td>Pessoa Jurídica</td>\n",
       "      <td>502205</td>\n",
       "      <td>Adiantamento sobre contratos de câmbio (ACC) -...</td>\n",
       "      <td>2</td>\n",
       "      <td>BCO SOCIETE GENERALE BRASIL</td>\n",
       "      <td>0.38</td>\n",
       "      <td>4.70</td>\n",
       "      <td>61533584</td>\n",
       "    </tr>\n",
       "    <tr>\n",
       "      <th>2</th>\n",
       "      <td>2025-05-19</td>\n",
       "      <td>2025-05-23</td>\n",
       "      <td>2</td>\n",
       "      <td>Pessoa Jurídica</td>\n",
       "      <td>502205</td>\n",
       "      <td>Adiantamento sobre contratos de câmbio (ACC) -...</td>\n",
       "      <td>3</td>\n",
       "      <td>BCO KDB BRASIL S.A.</td>\n",
       "      <td>0.39</td>\n",
       "      <td>4.76</td>\n",
       "      <td>07656500</td>\n",
       "    </tr>\n",
       "    <tr>\n",
       "      <th>3</th>\n",
       "      <td>2025-05-19</td>\n",
       "      <td>2025-05-23</td>\n",
       "      <td>2</td>\n",
       "      <td>Pessoa Jurídica</td>\n",
       "      <td>502205</td>\n",
       "      <td>Adiantamento sobre contratos de câmbio (ACC) -...</td>\n",
       "      <td>4</td>\n",
       "      <td>BCO DO BRASIL S.A.</td>\n",
       "      <td>0.42</td>\n",
       "      <td>5.14</td>\n",
       "      <td>00000000</td>\n",
       "    </tr>\n",
       "    <tr>\n",
       "      <th>4</th>\n",
       "      <td>2025-05-19</td>\n",
       "      <td>2025-05-23</td>\n",
       "      <td>2</td>\n",
       "      <td>Pessoa Jurídica</td>\n",
       "      <td>502205</td>\n",
       "      <td>Adiantamento sobre contratos de câmbio (ACC) -...</td>\n",
       "      <td>5</td>\n",
       "      <td>BBVA BRASIL BI S.A.</td>\n",
       "      <td>0.42</td>\n",
       "      <td>5.19</td>\n",
       "      <td>45283173</td>\n",
       "    </tr>\n",
       "    <tr>\n",
       "      <th>...</th>\n",
       "      <td>...</td>\n",
       "      <td>...</td>\n",
       "      <td>...</td>\n",
       "      <td>...</td>\n",
       "      <td>...</td>\n",
       "      <td>...</td>\n",
       "      <td>...</td>\n",
       "      <td>...</td>\n",
       "      <td>...</td>\n",
       "      <td>...</td>\n",
       "      <td>...</td>\n",
       "    </tr>\n",
       "    <tr>\n",
       "      <th>9995</th>\n",
       "      <td>2025-04-29</td>\n",
       "      <td>2025-05-06</td>\n",
       "      <td>1</td>\n",
       "      <td>Pessoa Física</td>\n",
       "      <td>401101</td>\n",
       "      <td>Aquisição de veículos - Pré-fixado</td>\n",
       "      <td>33</td>\n",
       "      <td>BCO VOTORANTIM S.A.</td>\n",
       "      <td>2.27</td>\n",
       "      <td>30.89</td>\n",
       "      <td>59588111</td>\n",
       "    </tr>\n",
       "    <tr>\n",
       "      <th>9996</th>\n",
       "      <td>2025-04-29</td>\n",
       "      <td>2025-05-06</td>\n",
       "      <td>1</td>\n",
       "      <td>Pessoa Física</td>\n",
       "      <td>401101</td>\n",
       "      <td>Aquisição de veículos - Pré-fixado</td>\n",
       "      <td>34</td>\n",
       "      <td>BCO DO ESTADO DO RS S.A.</td>\n",
       "      <td>2.43</td>\n",
       "      <td>33.46</td>\n",
       "      <td>92702067</td>\n",
       "    </tr>\n",
       "    <tr>\n",
       "      <th>9997</th>\n",
       "      <td>2025-04-29</td>\n",
       "      <td>2025-05-06</td>\n",
       "      <td>1</td>\n",
       "      <td>Pessoa Física</td>\n",
       "      <td>401101</td>\n",
       "      <td>Aquisição de veículos - Pré-fixado</td>\n",
       "      <td>35</td>\n",
       "      <td>BCO HONDA S.A.</td>\n",
       "      <td>2.47</td>\n",
       "      <td>34.04</td>\n",
       "      <td>03634220</td>\n",
       "    </tr>\n",
       "    <tr>\n",
       "      <th>9998</th>\n",
       "      <td>2025-04-29</td>\n",
       "      <td>2025-05-06</td>\n",
       "      <td>1</td>\n",
       "      <td>Pessoa Física</td>\n",
       "      <td>401101</td>\n",
       "      <td>Aquisição de veículos - Pré-fixado</td>\n",
       "      <td>36</td>\n",
       "      <td>BCO DIGIMAIS S.A.</td>\n",
       "      <td>2.49</td>\n",
       "      <td>34.28</td>\n",
       "      <td>92874270</td>\n",
       "    </tr>\n",
       "    <tr>\n",
       "      <th>9999</th>\n",
       "      <td>2025-04-29</td>\n",
       "      <td>2025-05-06</td>\n",
       "      <td>1</td>\n",
       "      <td>Pessoa Física</td>\n",
       "      <td>401101</td>\n",
       "      <td>Aquisição de veículos - Pré-fixado</td>\n",
       "      <td>37</td>\n",
       "      <td>BCO YAMAHA MOTOR S.A.</td>\n",
       "      <td>2.60</td>\n",
       "      <td>36.10</td>\n",
       "      <td>10371492</td>\n",
       "    </tr>\n",
       "  </tbody>\n",
       "</table>\n",
       "<p>10000 rows × 11 columns</p>\n",
       "</div>"
      ],
      "text/plain": [
       "     InicioPeriodo  FimPeriodo codigoSegmento         Segmento  \\\n",
       "0       2025-05-19  2025-05-23              2  Pessoa Jurídica   \n",
       "1       2025-05-19  2025-05-23              2  Pessoa Jurídica   \n",
       "2       2025-05-19  2025-05-23              2  Pessoa Jurídica   \n",
       "3       2025-05-19  2025-05-23              2  Pessoa Jurídica   \n",
       "4       2025-05-19  2025-05-23              2  Pessoa Jurídica   \n",
       "...            ...         ...            ...              ...   \n",
       "9995    2025-04-29  2025-05-06              1    Pessoa Física   \n",
       "9996    2025-04-29  2025-05-06              1    Pessoa Física   \n",
       "9997    2025-04-29  2025-05-06              1    Pessoa Física   \n",
       "9998    2025-04-29  2025-05-06              1    Pessoa Física   \n",
       "9999    2025-04-29  2025-05-06              1    Pessoa Física   \n",
       "\n",
       "     codigoModalidade                                         Modalidade  \\\n",
       "0              502205  Adiantamento sobre contratos de câmbio (ACC) -...   \n",
       "1              502205  Adiantamento sobre contratos de câmbio (ACC) -...   \n",
       "2              502205  Adiantamento sobre contratos de câmbio (ACC) -...   \n",
       "3              502205  Adiantamento sobre contratos de câmbio (ACC) -...   \n",
       "4              502205  Adiantamento sobre contratos de câmbio (ACC) -...   \n",
       "...               ...                                                ...   \n",
       "9995           401101                 Aquisição de veículos - Pré-fixado   \n",
       "9996           401101                 Aquisição de veículos - Pré-fixado   \n",
       "9997           401101                 Aquisição de veículos - Pré-fixado   \n",
       "9998           401101                 Aquisição de veículos - Pré-fixado   \n",
       "9999           401101                 Aquisição de veículos - Pré-fixado   \n",
       "\n",
       "      Posicao        InstituicaoFinanceira  TaxaJurosAoMes  TaxaJurosAoAno  \\\n",
       "0           1              BCO MIZUHO S.A.            0.36            4.38   \n",
       "1           2  BCO SOCIETE GENERALE BRASIL            0.38            4.70   \n",
       "2           3          BCO KDB BRASIL S.A.            0.39            4.76   \n",
       "3           4           BCO DO BRASIL S.A.            0.42            5.14   \n",
       "4           5          BBVA BRASIL BI S.A.            0.42            5.19   \n",
       "...       ...                          ...             ...             ...   \n",
       "9995       33          BCO VOTORANTIM S.A.            2.27           30.89   \n",
       "9996       34     BCO DO ESTADO DO RS S.A.            2.43           33.46   \n",
       "9997       35               BCO HONDA S.A.            2.47           34.04   \n",
       "9998       36            BCO DIGIMAIS S.A.            2.49           34.28   \n",
       "9999       37        BCO YAMAHA MOTOR S.A.            2.60           36.10   \n",
       "\n",
       "         cnpj8  \n",
       "0     61088183  \n",
       "1     61533584  \n",
       "2     07656500  \n",
       "3     00000000  \n",
       "4     45283173  \n",
       "...        ...  \n",
       "9995  59588111  \n",
       "9996  92702067  \n",
       "9997  03634220  \n",
       "9998  92874270  \n",
       "9999  10371492  \n",
       "\n",
       "[10000 rows x 11 columns]"
      ]
     },
     "execution_count": 2,
     "metadata": {},
     "output_type": "execute_result"
    }
   ],
   "source": [
    "df"
   ]
  },
  {
   "cell_type": "code",
   "execution_count": 3,
   "id": "9b7cbd5d",
   "metadata": {},
   "outputs": [
    {
     "name": "stdout",
     "output_type": "stream",
     "text": [
      "📌 Média da Taxa de Juros ao Mês por Instituição:\n",
      "\n",
      "InstituicaoFinanceira\n",
      "CREFISA S.A. CFI                        17.506000\n",
      "JBCRED S.A. SCFI                        16.333000\n",
      "REALIZE CFI S.A.                        16.314615\n",
      "MIDWAY S.A. - SCFI                      15.329487\n",
      "CALCRED S.A.                            14.388947\n",
      "                                          ...    \n",
      "SCOTIABANK BRASIL                        0.400000\n",
      "BCO KDB BRASIL S.A.                      0.390000\n",
      "BCO RABOBANK INTL BRASIL S.A.            0.332857\n",
      "DAYCOVAL LEASING - BCO MÚLTIPLO S.A.     0.175000\n",
      "BCO XCMG BRASIL S.A.                     0.155000\n",
      "Name: TaxaJurosAoMes, Length: 172, dtype: float64\n",
      "\n",
      "📌 Total de registros por Instituição:\n",
      "\n",
      "InstituicaoFinanceira\n",
      "BCO DO BRASIL S.A.                290\n",
      "BCO BRADESCO S.A.                 282\n",
      "BCO SAFRA S.A.                    250\n",
      "BCO DO ESTADO DO RS S.A.          244\n",
      "BCO SANTANDER (BRASIL) S.A.       236\n",
      "                                 ... \n",
      "BCO XCMG BRASIL S.A.                2\n",
      "BANCO PORTO REAL DE INVEST.S.A      1\n",
      "BCO BLUEBANK S.A.                   1\n",
      "DUFRIO CFI S.A.                     1\n",
      "SCOTIABANK BRASIL                   1\n",
      "Name: count, Length: 172, dtype: int64\n"
     ]
    }
   ],
   "source": [
    "# Média da Taxa de Juros ao mês por Instituição Financeira\n",
    "media_taxa_mes = df.groupby('InstituicaoFinanceira')['TaxaJurosAoMes'].mean().sort_values(ascending=False)\n",
    "print(\"📌 Média da Taxa de Juros ao Mês por Instituição:\\n\")\n",
    "print(media_taxa_mes)\n",
    "\n",
    "# Total de registros por Instituição\n",
    "total_por_instituicao = df['InstituicaoFinanceira'].value_counts()\n",
    "print(\"\\n📌 Total de registros por Instituição:\\n\")\n",
    "print(total_por_instituicao)\n"
   ]
  },
  {
   "cell_type": "markdown",
   "id": "84e78a30",
   "metadata": {},
   "source": [
    "Somando todas as taxas de juros ao mês, total de registros e tirando a média GERAL da taxa de juros ao mês\n"
   ]
  },
  {
   "cell_type": "code",
   "execution_count": 5,
   "id": "7fea8166",
   "metadata": {},
   "outputs": [
    {
     "name": "stdout",
     "output_type": "stream",
     "text": [
      "Média geral da Taxa de Juros ao Mês: 4.74\n"
     ]
    }
   ],
   "source": [
    "soma_taxas = df['TaxaJurosAoMes'].sum()\n",
    "total_registros = df['TaxaJurosAoMes'].count()\n",
    "media_geral = round(soma_taxas / total_registros, 2)\n",
    "print(\"Média geral da Taxa de Juros ao Mês:\", media_geral)\n"
   ]
  },
  {
   "cell_type": "markdown",
   "id": "ba3dfdd5",
   "metadata": {},
   "source": [
    "Soma total das TaxaJurosAoMes  (como se somasse os “valores de juros cobrados”) e soma total das taxas anuais\n"
   ]
  },
  {
   "cell_type": "code",
   "execution_count": 8,
   "id": "efc765e1",
   "metadata": {},
   "outputs": [
    {
     "name": "stdout",
     "output_type": "stream",
     "text": [
      "Soma estimada das Taxas de Juros ao Mês (x1000): 47437690.0\n",
      "Soma estimada das Taxas de Juros ao Ano (x1000): 1057367670.0\n"
     ]
    }
   ],
   "source": [
    "soma_juros_mes = df['TaxaJurosAoMes'].sum() * 1e3  \n",
    "soma_juros_ano = df['TaxaJurosAoAno'].sum() * 1e3  \n",
    "print(\"Soma estimada das Taxas de Juros ao Mês (x1000):\", round(soma_juros_mes, 2))\n",
    "print(\"Soma estimada das Taxas de Juros ao Ano (x1000):\", round(soma_juros_ano, 2))"
   ]
  },
  {
   "cell_type": "markdown",
   "id": "4f7ff29d",
   "metadata": {},
   "source": [
    "Quantos % as instituições financeiras estão cobrando de taxa de juros"
   ]
  },
  {
   "cell_type": "code",
   "execution_count": 9,
   "id": "fbbef8f5",
   "metadata": {},
   "outputs": [
    {
     "name": "stdout",
     "output_type": "stream",
     "text": [
      "📊 Média estimada da Taxa de Juros ao Mês (x1000): 4743.77\n",
      "📆 Média estimada da Taxa de Juros ao Ano (x1000): 105736.77\n"
     ]
    }
   ],
   "source": [
    "media_juros_mes = df['TaxaJurosAoMes'].mean() * 1e3  \n",
    "media_juros_ano = df['TaxaJurosAoAno'].mean() * 1e3\n",
    "\n",
    "print(\"📊 Média estimada da Taxa de Juros ao Mês (x1000):\", round(media_juros_mes, 2))\n",
    "print(\"📆 Média estimada da Taxa de Juros ao Ano (x1000):\", round(media_juros_ano, 2))\n",
    "\n",
    "#Esse resultado quer dizer que, em média, as instituições financeiras estão cobrando uma taxa de juros de aproximadamente 4,74% ao mês, e 105,74% ao ano, por mil operações analisadas."
   ]
  },
  {
   "cell_type": "code",
   "execution_count": 10,
   "id": "6013de87",
   "metadata": {},
   "outputs": [
    {
     "data": {
      "text/html": [
       "<div>\n",
       "<style scoped>\n",
       "    .dataframe tbody tr th:only-of-type {\n",
       "        vertical-align: middle;\n",
       "    }\n",
       "\n",
       "    .dataframe tbody tr th {\n",
       "        vertical-align: top;\n",
       "    }\n",
       "\n",
       "    .dataframe thead th {\n",
       "        text-align: right;\n",
       "    }\n",
       "</style>\n",
       "<table border=\"1\" class=\"dataframe\">\n",
       "  <thead>\n",
       "    <tr style=\"text-align: right;\">\n",
       "      <th></th>\n",
       "      <th>InicioPeriodo</th>\n",
       "      <th>FimPeriodo</th>\n",
       "      <th>codigoSegmento</th>\n",
       "      <th>Segmento</th>\n",
       "      <th>codigoModalidade</th>\n",
       "      <th>Modalidade</th>\n",
       "      <th>Posicao</th>\n",
       "      <th>InstituicaoFinanceira</th>\n",
       "      <th>TaxaJurosAoMes</th>\n",
       "      <th>TaxaJurosAoAno</th>\n",
       "      <th>cnpj8</th>\n",
       "    </tr>\n",
       "  </thead>\n",
       "  <tbody>\n",
       "    <tr>\n",
       "      <th>0</th>\n",
       "      <td>2025-05-19</td>\n",
       "      <td>2025-05-23</td>\n",
       "      <td>2</td>\n",
       "      <td>Pessoa Jurídica</td>\n",
       "      <td>502205</td>\n",
       "      <td>Adiantamento sobre contratos de câmbio (ACC) -...</td>\n",
       "      <td>1</td>\n",
       "      <td>BCO MIZUHO S.A.</td>\n",
       "      <td>0.36</td>\n",
       "      <td>4.38</td>\n",
       "      <td>61088183</td>\n",
       "    </tr>\n",
       "    <tr>\n",
       "      <th>1</th>\n",
       "      <td>2025-05-19</td>\n",
       "      <td>2025-05-23</td>\n",
       "      <td>2</td>\n",
       "      <td>Pessoa Jurídica</td>\n",
       "      <td>502205</td>\n",
       "      <td>Adiantamento sobre contratos de câmbio (ACC) -...</td>\n",
       "      <td>2</td>\n",
       "      <td>BCO SOCIETE GENERALE BRASIL</td>\n",
       "      <td>0.38</td>\n",
       "      <td>4.70</td>\n",
       "      <td>61533584</td>\n",
       "    </tr>\n",
       "    <tr>\n",
       "      <th>2</th>\n",
       "      <td>2025-05-19</td>\n",
       "      <td>2025-05-23</td>\n",
       "      <td>2</td>\n",
       "      <td>Pessoa Jurídica</td>\n",
       "      <td>502205</td>\n",
       "      <td>Adiantamento sobre contratos de câmbio (ACC) -...</td>\n",
       "      <td>3</td>\n",
       "      <td>BCO KDB BRASIL S.A.</td>\n",
       "      <td>0.39</td>\n",
       "      <td>4.76</td>\n",
       "      <td>07656500</td>\n",
       "    </tr>\n",
       "    <tr>\n",
       "      <th>3</th>\n",
       "      <td>2025-05-19</td>\n",
       "      <td>2025-05-23</td>\n",
       "      <td>2</td>\n",
       "      <td>Pessoa Jurídica</td>\n",
       "      <td>502205</td>\n",
       "      <td>Adiantamento sobre contratos de câmbio (ACC) -...</td>\n",
       "      <td>4</td>\n",
       "      <td>BCO DO BRASIL S.A.</td>\n",
       "      <td>0.42</td>\n",
       "      <td>5.14</td>\n",
       "      <td>00000000</td>\n",
       "    </tr>\n",
       "    <tr>\n",
       "      <th>4</th>\n",
       "      <td>2025-05-19</td>\n",
       "      <td>2025-05-23</td>\n",
       "      <td>2</td>\n",
       "      <td>Pessoa Jurídica</td>\n",
       "      <td>502205</td>\n",
       "      <td>Adiantamento sobre contratos de câmbio (ACC) -...</td>\n",
       "      <td>5</td>\n",
       "      <td>BBVA BRASIL BI S.A.</td>\n",
       "      <td>0.42</td>\n",
       "      <td>5.19</td>\n",
       "      <td>45283173</td>\n",
       "    </tr>\n",
       "  </tbody>\n",
       "</table>\n",
       "</div>"
      ],
      "text/plain": [
       "  InicioPeriodo  FimPeriodo codigoSegmento         Segmento codigoModalidade  \\\n",
       "0    2025-05-19  2025-05-23              2  Pessoa Jurídica           502205   \n",
       "1    2025-05-19  2025-05-23              2  Pessoa Jurídica           502205   \n",
       "2    2025-05-19  2025-05-23              2  Pessoa Jurídica           502205   \n",
       "3    2025-05-19  2025-05-23              2  Pessoa Jurídica           502205   \n",
       "4    2025-05-19  2025-05-23              2  Pessoa Jurídica           502205   \n",
       "\n",
       "                                          Modalidade  Posicao  \\\n",
       "0  Adiantamento sobre contratos de câmbio (ACC) -...        1   \n",
       "1  Adiantamento sobre contratos de câmbio (ACC) -...        2   \n",
       "2  Adiantamento sobre contratos de câmbio (ACC) -...        3   \n",
       "3  Adiantamento sobre contratos de câmbio (ACC) -...        4   \n",
       "4  Adiantamento sobre contratos de câmbio (ACC) -...        5   \n",
       "\n",
       "         InstituicaoFinanceira  TaxaJurosAoMes  TaxaJurosAoAno     cnpj8  \n",
       "0              BCO MIZUHO S.A.            0.36            4.38  61088183  \n",
       "1  BCO SOCIETE GENERALE BRASIL            0.38            4.70  61533584  \n",
       "2          BCO KDB BRASIL S.A.            0.39            4.76  07656500  \n",
       "3           BCO DO BRASIL S.A.            0.42            5.14  00000000  \n",
       "4          BBVA BRASIL BI S.A.            0.42            5.19  45283173  "
      ]
     },
     "execution_count": 10,
     "metadata": {},
     "output_type": "execute_result"
    }
   ],
   "source": [
    "df.head()"
   ]
  },
  {
   "cell_type": "code",
   "execution_count": 19,
   "id": "67ca433a",
   "metadata": {},
   "outputs": [
    {
     "name": "stdout",
     "output_type": "stream",
     "text": [
      "                  count        mean         std  min    25%    50%       75%  \\\n",
      "Posicao         10000.0   22.708100   16.624715  1.0   9.00  20.00   33.0000   \n",
      "TaxaJurosAoMes  10000.0    4.743769    4.712019  0.0   1.77   2.52    6.1425   \n",
      "TaxaJurosAoAno  10000.0  105.736767  163.344035  0.0  23.41  34.82  104.5000   \n",
      "\n",
      "                   max  coef_var  \n",
      "Posicao          85.00  0.732105  \n",
      "TaxaJurosAoMes   22.07  0.993307  \n",
      "TaxaJurosAoAno  994.61  1.544818  \n"
     ]
    }
   ],
   "source": [
    "    # 📊 Estatísticas descritivas das colunas numéricas\n",
    "estatisticas = df.describe().T  # Gera média, std, min, max etc.\n",
    "\n",
    "# 🧮 Adiciona o coeficiente de variação (quanto a coluna é dispersa em relação à média)\n",
    "estatisticas['coef_var'] = estatisticas['std'] / estatisticas['mean']\n",
    "\n",
    "# Mostra o resultado\n",
    "print(estatisticas)\n"
   ]
  },
  {
   "cell_type": "code",
   "execution_count": 21,
   "id": "7e13cc90",
   "metadata": {},
   "outputs": [
    {
     "data": {
      "image/png": "[encoded data removed]",
      "text/plain": [
       "<Figure size 1400x600 with 1 Axes>"
      ]
     },
     "metadata": {},
     "output_type": "display_data"
    }
   ],
   "source": [
    "import matplotlib.pyplot as plt\n",
    "\n",
    "# Considerando as colunas numéricas: digamos que sejam col1 e col2\n",
    "estatisticas['mean'].sort_values(ascending=False).plot(\n",
    "    kind='bar', figsize=(14,6),\n",
    "    title='Média das variáveis numéricas por banco'\n",
    ")\n",
    "\n",
    "plt.ylabel('Média (valores)')\n",
    "plt.tight_layout()\n",
    "plt.grid(True)\n",
    "plt.show()\n"
   ]
  },
  {
   "cell_type": "code",
   "execution_count": 24,
   "id": "c0492467",
   "metadata": {},
   "outputs": [
    {
     "name": "stdout",
     "output_type": "stream",
     "text": [
      "                      mean         std  coef_var\n",
      "TaxaJurosAoAno  105.736767  163.344035  1.544818\n",
      "TaxaJurosAoMes    4.743769    4.712019  0.993307\n",
      "Posicao          22.708100   16.624715  0.732105\n"
     ]
    }
   ],
   "source": [
    "import pandas as pd\n",
    "\n",
    "# Suponha que df seja seu DataFrame com as colunas numéricas\n",
    "estatisticas = df.describe().T\n",
    "\n",
    "# Calcula coeficiente de variação\n",
    "estatisticas['coef_var'] = estatisticas['std'] / estatisticas['mean']\n",
    "\n",
    "# Ordena pelo coeficiente de variação decrescente para ver quais são mais variáveis\n",
    "estatisticas_cv = estatisticas.sort_values('coef_var', ascending=False)\n",
    "\n",
    "print(estatisticas_cv[['mean', 'std', 'coef_var']])\n"
   ]
  },
  {
   "cell_type": "code",
   "execution_count": 3,
   "id": "ebdca0a4",
   "metadata": {},
   "outputs": [],
   "source": [
    "# Importações básicas para análise e visualização\n",
    "import pandas as pd\n",
    "import matplotlib.pyplot as plt\n",
    "import seaborn as sns\n",
    "\n",
    "# Configurações opcionais para melhorar visualização\n",
    "sns.set(style=\"whitegrid\")\n",
    "plt.rcParams['figure.figsize'] = (14, 7)\n"
   ]
  },
  {
   "cell_type": "code",
   "execution_count": 3,
   "id": "f3df4788",
   "metadata": {},
   "outputs": [
    {
     "name": "stdout",
     "output_type": "stream",
     "text": [
      "Index(['InicioPeriodo', 'FimPeriodo', 'codigoSegmento', 'Segmento',\n",
      "       'codigoModalidade', 'Modalidade', 'Posicao', 'InstituicaoFinanceira',\n",
      "       'TaxaJurosAoMes', 'TaxaJurosAoAno', 'cnpj8'],\n",
      "      dtype='object')\n"
     ]
    }
   ],
   "source": [
    "df = pd.read_csv('src/datasets/taxajuros.csv', sep=';')\n",
    "print(df.columns)"
   ]
  },
  {
   "cell_type": "markdown",
   "id": "c0fe7ef7",
   "metadata": {},
   "source": [
    "Instituição com maior média de juros ao ano"
   ]
  },
  {
   "cell_type": "code",
   "execution_count": 7,
   "id": "6763706e",
   "metadata": {},
   "outputs": [
    {
     "data": {
      "text/plain": [
       "InstituicaoFinanceira\n",
       "CREFISA S.A. CFI    682.487333\n",
       "Name: TaxaJurosAoAno, dtype: float64"
      ]
     },
     "execution_count": 7,
     "metadata": {},
     "output_type": "execute_result"
    }
   ],
   "source": [
    "df.groupby(\"InstituicaoFinanceira\")[\"TaxaJurosAoAno\"].mean().sort_values(ascending=False).head(1)\n"
   ]
  },
  {
   "cell_type": "markdown",
   "id": "987cbb20",
   "metadata": {},
   "source": [
    "Instituição com mais registros (vendas ou ofertas)"
   ]
  },
  {
   "cell_type": "code",
   "execution_count": 8,
   "id": "ea0dd0c7",
   "metadata": {},
   "outputs": [
    {
     "data": {
      "text/plain": [
       "InstituicaoFinanceira\n",
       "BCO DO BRASIL S.A.    290\n",
       "Name: count, dtype: int64"
      ]
     },
     "execution_count": 8,
     "metadata": {},
     "output_type": "execute_result"
    }
   ],
   "source": [
    "df[\"InstituicaoFinanceira\"].value_counts().head(1)"
   ]
  },
  {
   "cell_type": "markdown",
   "id": "ac522926",
   "metadata": {},
   "source": [
    ". Instituição com maior média de juros ao mês"
   ]
  },
  {
   "cell_type": "code",
   "execution_count": 9,
   "id": "c9695ec8",
   "metadata": {},
   "outputs": [
    {
     "data": {
      "text/plain": [
       "InstituicaoFinanceira\n",
       "CREFISA S.A. CFI    17.506\n",
       "Name: TaxaJurosAoMes, dtype: float64"
      ]
     },
     "execution_count": 9,
     "metadata": {},
     "output_type": "execute_result"
    }
   ],
   "source": [
    "df.groupby(\"InstituicaoFinanceira\")[\"TaxaJurosAoMes\"].mean().sort_values(ascending=False).head(1)\n"
   ]
  },
  {
   "cell_type": "markdown",
   "id": "6fea8b3c",
   "metadata": {},
   "source": [
    " Instituição com maior valor de juros ao ano (não média, mas o pico)"
   ]
  },
  {
   "cell_type": "code",
   "execution_count": 10,
   "id": "632dffea",
   "metadata": {},
   "outputs": [
    {
     "data": {
      "text/html": [
       "<div>\n",
       "<style scoped>\n",
       "    .dataframe tbody tr th:only-of-type {\n",
       "        vertical-align: middle;\n",
       "    }\n",
       "\n",
       "    .dataframe tbody tr th {\n",
       "        vertical-align: top;\n",
       "    }\n",
       "\n",
       "    .dataframe thead th {\n",
       "        text-align: right;\n",
       "    }\n",
       "</style>\n",
       "<table border=\"1\" class=\"dataframe\">\n",
       "  <thead>\n",
       "    <tr style=\"text-align: right;\">\n",
       "      <th></th>\n",
       "      <th>InstituicaoFinanceira</th>\n",
       "      <th>TaxaJurosAoAno</th>\n",
       "    </tr>\n",
       "  </thead>\n",
       "  <tbody>\n",
       "    <tr>\n",
       "      <th>5734</th>\n",
       "      <td>BCO CREFISA S.A.</td>\n",
       "      <td>994.61</td>\n",
       "    </tr>\n",
       "    <tr>\n",
       "      <th>6483</th>\n",
       "      <td>BCO CREFISA S.A.</td>\n",
       "      <td>994.61</td>\n",
       "    </tr>\n",
       "    <tr>\n",
       "      <th>7222</th>\n",
       "      <td>BCO CREFISA S.A.</td>\n",
       "      <td>994.61</td>\n",
       "    </tr>\n",
       "  </tbody>\n",
       "</table>\n",
       "</div>"
      ],
      "text/plain": [
       "     InstituicaoFinanceira  TaxaJurosAoAno\n",
       "5734      BCO CREFISA S.A.          994.61\n",
       "6483      BCO CREFISA S.A.          994.61\n",
       "7222      BCO CREFISA S.A.          994.61"
      ]
     },
     "execution_count": 10,
     "metadata": {},
     "output_type": "execute_result"
    }
   ],
   "source": [
    "df.loc[df[\"TaxaJurosAoAno\"] == df[\"TaxaJurosAoAno\"].max(), [\"InstituicaoFinanceira\", \"TaxaJurosAoAno\"]]\n"
   ]
  }
 ],
 "metadata": {
  "kernelspec": {
   "display_name": ".venv",
   "language": "python",
   "name": "python3"
  },
  "language_info": {
   "codemirror_mode": {
    "name": "ipython",
    "version": 3
   },
   "file_extension": ".py",
   "mimetype": "text/x-python",
   "name": "python",
   "nbconvert_exporter": "python",
   "pygments_lexer": "ipython3",
   "version": "3.13.4"
  }
 },
 "nbformat": 4,
 "nbformat_minor": 5
}
